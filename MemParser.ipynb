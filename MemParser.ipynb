{
 "cells": [
  {
   "cell_type": "code",
   "execution_count": 27,
   "metadata": {},
   "outputs": [],
   "source": [
    "data = bytearray(open(\"./xemjp\", \"rb\").read())"
   ]
  },
  {
   "cell_type": "code",
   "execution_count": null,
   "metadata": {},
   "outputs": [],
   "source": [
    "data[:10]"
   ]
  },
  {
   "cell_type": "code",
   "execution_count": null,
   "metadata": {},
   "outputs": [],
   "source": [
    "def pbyte(b):\n",
    "    return hex(int(b))"
   ]
  },
  {
   "cell_type": "code",
   "execution_count": 24,
   "metadata": {},
   "outputs": [
    {
     "data": {
      "text/plain": [
       "'0xc5fa46'"
      ]
     },
     "execution_count": 24,
     "metadata": {},
     "output_type": "execute_result"
    }
   ],
   "source": [
    "hex(12974662)"
   ]
  },
  {
   "cell_type": "code",
   "execution_count": 44,
   "metadata": {},
   "outputs": [
    {
     "data": {
      "text/plain": [
       "bytearray(b'dir\\x00warp_building_front\\x00atk_dark\\x00\\x00leave\\x00check_atk_dark_hit\\x00\\x00dead\\x00\\x00faint_short\\x00comeback\\x00\\x00move_shield\\x00move_counter\\x00\\x00jump start\\x00\\x00atk_counter\\x00jump end\\x00\\x00idle_middle\\x00idle\\x00\\x00warp_target_middle\\x00\\x0000\\x00\\x00warp_target_far\\x00rc_invitation_to_dark\\x00btl_attack\\x00\\x00atk_combo\\x00warp_target_near\\x00\\x00btl_short\\x00btl_long\\x00\\x0010\\x00\\x00atk_shield_short\\x00\\x00mode_check\\x00\\x00rvg_short\\x00mode_dark\\x00rvg_long\\x00\\x0020\\x00\\x00mode_super_hard\\x00mode_battle\\x00mode_hard\\x00mode_normal\\x00freeze\\x00\\x00btl_normal\\x00\\x0030\\x00\\x00mode_revenge\\x00\\x00btl_hard\\x00\\x00atk_shield\\x00\\x00event\\x00btl_super_hard\\x00\\x00appear\\x00\\x00idle_time\\x00faint_long\\x00\\x00footwork\\x00\\x00rvg_normal\\x00\\x00mode_battle_boss\\x00\\x00rvg_hard\\x00\\x00mode_revenge_boss\\x00rvg_super_hard\\x00\\x00idle_short\\x00\\x00idle_wait\\x00rst_normal\\x00\\x00warp_target_origin\\x00\\x00rst_hard\\x00\\x00revenge\\x00rst_super_hard\\x00\\x00scale\\x00root\\x00\\x00saber_effect_on\\x00idle_long\\x00saber_effect_off')"
      ]
     },
     "execution_count": 44,
     "metadata": {},
     "output_type": "execute_result"
    }
   ],
   "source": [
    "# Xemnas? \n",
    "start_byte = 0x00c5f75E\n",
    "end_byte = 0x00c5fa46\n",
    "# zexion\n",
    "# start_byte = 0x00c83b61\n",
    "# end_byte = 0x00c842f4 \n",
    "subdata = data[start_byte:end_byte]\n",
    "subdata"
   ]
  },
  {
   "cell_type": "code",
   "execution_count": 53,
   "metadata": {},
   "outputs": [],
   "source": [
    "commands = []\n",
    "command = {\"startaddr\": 0, \"content\": bytearray([])}\n",
    "for i in range(len(subdata)):\n",
    "    b = subdata[i]\n",
    "    if b == 0:\n",
    "        if len(command[\"content\"]) > 0:\n",
    "            command[\"endaddr\"] = i-1\n",
    "            commands.append(command)\n",
    "        command = {\"startaddr\": i, \"content\": bytearray([])}\n",
    "    else:\n",
    "        command[\"content\"].append(b)"
   ]
  },
  {
   "cell_type": "code",
   "execution_count": 142,
   "metadata": {},
   "outputs": [],
   "source": [
    "fn = \"xemnas.yaml\"\n",
    "import yaml\n",
    "yaml.dump([{\"command\": x[\"content\"].decode('utf-8'), \"enabled\": True, \"startaddr\": x[\"startaddr\"], \"endaddr\": x[\"endaddr\"]} for x in commands], open(fn,\"w\"), default_flow_style=False)"
   ]
  },
  {
   "cell_type": "code",
   "execution_count": 147,
   "metadata": {},
   "outputs": [],
   "source": [
    "fn = \"xemnas.yaml\"\n",
    "import yaml\n",
    "d = yaml.load(open(fn))#, Loader=yaml.FullLoader)"
   ]
  },
  {
   "cell_type": "code",
   "execution_count": 91,
   "metadata": {},
   "outputs": [],
   "source": [
    "def get_byteword_start(addr):\n",
    "    return addr - (addr % 4)\n",
    "def get_byteword_end(addr):\n",
    "    if addr % 4 == 0:\n",
    "        return addr\n",
    "    return addr + (4 - (addr % 4))"
   ]
  },
  {
   "cell_type": "code",
   "execution_count": 148,
   "metadata": {
    "scrolled": true
   },
   "outputs": [
    {
     "name": "stdout",
     "output_type": "stream",
     "text": [
      "Canceling rc_invitation_to_dark\n",
      "// Null out rc_invitation_to_dark\n",
      "00c5f828 00726166\n",
      "00c5f82c 00000000\n",
      "00c5f830 00000000\n",
      "00c5f834 00000000\n",
      "00c5f838 00000000\n",
      "00c5f83c 00000000\n",
      "00c5f840 74620000\n",
      "\n"
     ]
    }
   ],
   "source": [
    "codes = {}\n",
    "for c in range(len(d)):\n",
    "    c = d[c]\n",
    "    if not c[\"enabled\"]:\n",
    "        print(\"Canceling {}\".format(c[\"command\"]))\n",
    "        header_start = c[\"startaddr\"] + start_byte\n",
    "        header_byteword_start = get_byteword_start(header_start)\n",
    "        header_end = start_byte+c[\"endaddr\"] + 1 # I think theres an off by 1 error I don't wanna debug it\n",
    "        header_byteword_end = get_byteword_end(header_end)\n",
    "        words = []\n",
    "        for i in range(header_byteword_start, header_byteword_end, 4):\n",
    "            word = {\"addr\": i, \"value\": bytearray([0,0,0,0])}\n",
    "            words.append(word)\n",
    "        ## To really do this right I need to check if I'm canceling out a adjacent word and in that case dont do this\n",
    "        start_diff = abs(header_start-header_byteword_start)\n",
    "        for i in range(start_diff):\n",
    "            words[0][\"value\"][i] = data[header_byteword_start+i]\n",
    "        end_diff = abs(header_end-header_byteword_end) - 1 # Again account for the off by 1 error I'm lazy\n",
    "        for i in range(end_diff):\n",
    "            words[-1][\"value\"][3-i] = data[header_byteword_end-i-1] # another off by one thing\n",
    "        codes[c[\"command\"]] = words\n",
    "st = \"\"\n",
    "for c in codes:\n",
    "    st += \"// Null out {}\\n\".format(c)\n",
    "    for line in codes[c]:\n",
    "        st += \"{} {}\\n\".format(str(hex(line[\"addr\"]))[2:].zfill(8), ''.join([hex(i)[2:].zfill(2) for i in line[\"value\"]][::-1]))\n",
    "print(st)"
   ]
  },
  {
   "cell_type": "code",
   "execution_count": 149,
   "metadata": {},
   "outputs": [
    {
     "data": {
      "text/plain": [
       "12974123"
      ]
     },
     "execution_count": 149,
     "metadata": {},
     "output_type": "execute_result"
    }
   ],
   "source": [
    "header_start"
   ]
  },
  {
   "cell_type": "code",
   "execution_count": 138,
   "metadata": {},
   "outputs": [
    {
     "data": {
      "text/plain": [
       "'0x6b'"
      ]
     },
     "execution_count": 138,
     "metadata": {},
     "output_type": "execute_result"
    }
   ],
   "source": [
    "hex(data[header_byteword_end-0])"
   ]
  },
  {
   "cell_type": "code",
   "execution_count": 120,
   "metadata": {},
   "outputs": [
    {
     "data": {
      "text/plain": [
       "0"
      ]
     },
     "execution_count": 120,
     "metadata": {},
     "output_type": "execute_result"
    }
   ],
   "source": [
    "i"
   ]
  },
  {
   "cell_type": "code",
   "execution_count": null,
   "metadata": {},
   "outputs": [],
   "source": [
    "# //warp building front\n",
    "# 00c62f60 00000072\n",
    "# 00c62f64 00000000\n",
    "# 00c62f68 00000000\n",
    "# 00c62f6c 00000000\n",
    "# 00c62f70 00000000\n",
    "# 00c62f74 74610000\n",
    "# // rc invitation to dark\n",
    "# 00c6302c 00000000\n",
    "# 00c63030 00000000\n",
    "# 00c63034 00000000\n",
    "# 00c63038 00000000\n",
    "# 00c6303c 00000000\n"
   ]
  },
  {
   "cell_type": "code",
   "execution_count": null,
   "metadata": {},
   "outputs": [],
   "source": [
    "# quick function to give out stats on the amount of 00 bytes in the file"
   ]
  },
  {
   "cell_type": "code",
   "execution_count": null,
   "metadata": {},
   "outputs": [],
   "source": [
    "# input start/stop address of headers\n",
    "# parse into list, using 00 byte as separator\n",
    "# translate names to english, output a json file with true/false\n",
    "\n",
    "# when given a headers list, generate codes to null out all the falses, and write to a pnach\n"
   ]
  }
 ],
 "metadata": {
  "kernelspec": {
   "display_name": "Python 3",
   "language": "python",
   "name": "python3"
  },
  "language_info": {
   "codemirror_mode": {
    "name": "ipython",
    "version": 3
   },
   "file_extension": ".py",
   "mimetype": "text/x-python",
   "name": "python",
   "nbconvert_exporter": "python",
   "pygments_lexer": "ipython3",
   "version": "3.7.0"
  }
 },
 "nbformat": 4,
 "nbformat_minor": 2
}
