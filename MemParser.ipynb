{
 "cells": [
  {
   "cell_type": "code",
   "execution_count": 13,
   "metadata": {},
   "outputs": [],
   "source": [
    "data = bytearray(open(\"../zexionjp\", \"rb\").read())"
   ]
  },
  {
   "cell_type": "code",
   "execution_count": null,
   "metadata": {},
   "outputs": [],
   "source": [
    "data[:10]"
   ]
  },
  {
   "cell_type": "code",
   "execution_count": 4,
   "metadata": {},
   "outputs": [],
   "source": [
    "def pbyte(b):\n",
    "    return hex(int(b))"
   ]
  },
  {
   "cell_type": "code",
   "execution_count": 70,
   "metadata": {},
   "outputs": [],
   "source": [
    "query = ['0x00', '0x00', '0x09', '0x7b']\n",
    "for addr in range(0, len(data), 4):\n",
    "    if [pbyte(b) for b in data[addr:addr+4]] == query:\n",
    "        print(hex(addr))"
   ]
  },
  {
   "cell_type": "code",
   "execution_count": 9,
   "metadata": {},
   "outputs": [
    {
     "data": {
      "text/plain": [
       "25"
      ]
     },
     "execution_count": 9,
     "metadata": {},
     "output_type": "execute_result"
    }
   ],
   "source": [
    "data[0xa]\n",
    "data[10]"
   ]
  },
  {
   "cell_type": "code",
   "execution_count": 14,
   "metadata": {},
   "outputs": [],
   "source": [
    "end_byte = 0x00c842f4\n",
    "start_byte = 0x00c83b61\n",
    "subdata = data[start_byte:end_byte]"
   ]
  },
  {
   "cell_type": "code",
   "execution_count": 57,
   "metadata": {},
   "outputs": [],
   "source": [
    "commands = {}\n",
    "command = {\"startaddr\": \"\", \"content\": bytearray([])}\n",
    "for i in range(len(subdata)):\n",
    "    b = subdata[i]\n",
    "    if b == 0:\n",
    "        if len(command[\"content\"]) > 0:\n",
    "            commands[command[\"content\"].decode('utf-8')] = command\n",
    "        command = {\"startaddr\": i, \"content\": bytearray([])}\n",
    "    else:\n",
    "        command[\"content\"].append(b)"
   ]
  },
  {
   "cell_type": "markdown",
   "metadata": {},
   "source": []
  },
  {
   "cell_type": "code",
   "execution_count": 52,
   "metadata": {},
   "outputs": [
    {
     "data": {
      "text/plain": [
       "<function yaml.dump(data, stream=None, Dumper=<class 'yaml.dumper.Dumper'>, **kwds)>"
      ]
     },
     "execution_count": 52,
     "metadata": {},
     "output_type": "execute_result"
    }
   ],
   "source": [
    "yaml.dump"
   ]
  },
  {
   "cell_type": "code",
   "execution_count": 59,
   "metadata": {},
   "outputs": [],
   "source": [
    "fn = \"zexion.yaml\"\n",
    "import yaml\n",
    "yaml.dump({commands[x][\"content\"].decode('utf-8'): True for x in commands}, open(fn,\"w\"))"
   ]
  },
  {
   "cell_type": "code",
   "execution_count": 65,
   "metadata": {},
   "outputs": [],
   "source": [
    "fn = \"zexion.yaml\"\n",
    "import yaml\n",
    "d = yaml.load(open(fn), Loader=yaml.FullLoader)"
   ]
  },
  {
   "cell_type": "code",
   "execution_count": 66,
   "metadata": {},
   "outputs": [
    {
     "data": {
      "text/plain": [
       "{'ERROR COMMANDCOUT::get i = ': True,\n",
       " 'ERROR COMMANDLIST::add type = ': True,\n",
       " 'ERROR COMMANDLIST::get_idx_list type = ': True,\n",
       " 'Error, The number of commands is illegal': True,\n",
       " 'INT': True,\n",
       " 'Zexion': True,\n",
       " 'Zexion_hp_max': True,\n",
       " 'Zexion_hp_now': True,\n",
       " 'add command over': True,\n",
       " 'add_ct': True,\n",
       " 'air': True,\n",
       " 'alg_hard': True,\n",
       " 'alg_hard!': True,\n",
       " 'alg_normal': True,\n",
       " 'alg_super_hard': True,\n",
       " 'alg_super_hard!': True,\n",
       " 'appear': True,\n",
       " 'atk_book_meteor_2_all': True,\n",
       " 'atk_book_meteor_2_all_call': True,\n",
       " 'atk_capture': True,\n",
       " 'atk_capture_all': True,\n",
       " 'atk_capture_vision': True,\n",
       " 'atk_capture_vision_all': True,\n",
       " 'atk_capture_vision_party': True,\n",
       " 'atk_cross_bomb': True,\n",
       " 'atk_cross_bomb_party': True,\n",
       " 'atk_cross_bomb_sp': True,\n",
       " 'atk_dic_start': True,\n",
       " 'atk_fly_target': True,\n",
       " 'atk_meteor': True,\n",
       " 'atk_meteor_2': True,\n",
       " 'atk_mirage_circle': True,\n",
       " 'atk_shield': True,\n",
       " 'atk_storm': True,\n",
       " 'atk_tornado': True,\n",
       " 'atk_vision': True,\n",
       " 'atk_vision_all': True,\n",
       " 'back_step': True,\n",
       " 'back_step_long': True,\n",
       " 'battle_start': True,\n",
       " 'battle_start_back_step': True,\n",
       " 'book_disappear_all_call': True,\n",
       " 'book_hide_all': True,\n",
       " 'book_hide_all_call': True,\n",
       " 'book_show_all': True,\n",
       " 'book_show_all_call': True,\n",
       " 'btl_attack': True,\n",
       " 'btl_hard': True,\n",
       " 'btl_long': True,\n",
       " 'btl_normal': True,\n",
       " 'btl_short': True,\n",
       " 'btl_super_hard': True,\n",
       " 'cap donald': True,\n",
       " 'cap goofy': True,\n",
       " 'capture': True,\n",
       " 'change_vision': True,\n",
       " 'check': True,\n",
       " 'commadn ct': True,\n",
       " 'damage_count': True,\n",
       " 'dead': True,\n",
       " 'dic': True,\n",
       " 'disappear_all': True,\n",
       " 'end_illusion': True,\n",
       " 'escape': True,\n",
       " 'event': True,\n",
       " 'fly': True,\n",
       " 'fly_height_set': True,\n",
       " 'fly_idle': True,\n",
       " 'fly_target': True,\n",
       " 'fly_target_away': True,\n",
       " 'fly_target_round': True,\n",
       " 'footwork': True,\n",
       " 'freeze': True,\n",
       " 'idle': True,\n",
       " 'idle_long': True,\n",
       " 'idle_short': True,\n",
       " 'idle_time': True,\n",
       " 'idle_wait': True,\n",
       " 'idle_wait_vanish': True,\n",
       " 'init command, lv = ': True,\n",
       " 'jump': True,\n",
       " 'jump end': True,\n",
       " 'jump start': True,\n",
       " 'leave': True,\n",
       " 'max': True,\n",
       " 'max_hp': True,\n",
       " 'mode_battle': True,\n",
       " 'mode_battle_boss': True,\n",
       " 'mode_revenge': True,\n",
       " 'mode_revenge_boss': True,\n",
       " 'move_to_fly_height': True,\n",
       " 'near': True,\n",
       " 'near_wait': True,\n",
       " 'not capture': True,\n",
       " 'not shield_on': True,\n",
       " 'override command over, i = ': True,\n",
       " 'rc_vanish': True,\n",
       " 'recover_hp': True,\n",
       " 'release': True,\n",
       " 'revenge': True,\n",
       " 'revenge_capture_air': True,\n",
       " 'revenge_capture_all_air': True,\n",
       " 'rst_hard': True,\n",
       " 'rst_normal': True,\n",
       " 'rst_super_hard': True,\n",
       " 'rvg_hard': True,\n",
       " 'rvg_long': True,\n",
       " 'rvg_normal': True,\n",
       " 'rvg_short': True,\n",
       " 'rvg_super_hard': True,\n",
       " 'shield_on': True,\n",
       " 'start_illusion': True,\n",
       " 'stealth_dead': True,\n",
       " 'success_capture': True,\n",
       " 'talk': True,\n",
       " 'test_atk_dic': True,\n",
       " 'test_cross_bomb': True,\n",
       " 'test_disp_hp': True,\n",
       " 'test_fall': True,\n",
       " 'test_hook_command': True,\n",
       " 'test_reset_command': True,\n",
       " 'test_sound_set_bgse_volume_0': True,\n",
       " 'test_sound_set_bgse_volume_1': True,\n",
       " 'test_stealth_off': True,\n",
       " 'test_stealth_on': True,\n",
       " 'test_vision_spell': True,\n",
       " 'test_zexion_hp': True,\n",
       " 'turn_shuffle': True,\n",
       " 'type': True,\n",
       " 'unknown_alg': True,\n",
       " 'walk': True,\n",
       " 'walk_back': True,\n",
       " 'walk_side': True,\n",
       " 'walk_side_b': True,\n",
       " 'weak_mode': True,\n",
       " 'weak_mode!': True,\n",
       " 'zexion_hp': True,\n",
       " 'zexion_hp_recover': True}"
      ]
     },
     "execution_count": 66,
     "metadata": {},
     "output_type": "execute_result"
    }
   ],
   "source": [
    "for k in d:\n",
    "    if not d[k]:\n",
    "        header_start = d\n",
    "        # add the code\n",
    "        # get the header start and real start of the (byteword)\n",
    "        # get the header end and real end (of the byteword)\n",
    "        # if the first byteword needs to not null some stuff do that\n",
    "        # if the last byteword needs to not do stuff do that\n",
    "        # calculate the real address for this, and append address/value to list\n",
    "# create the pnach\n",
    "        "
   ]
  },
  {
   "cell_type": "code",
   "execution_count": 63,
   "metadata": {},
   "outputs": [
    {
     "ename": "ModuleNotFoundError",
     "evalue": "No module named 'pyyaml'",
     "output_type": "error",
     "traceback": [
      "\u001b[1;31m---------------------------------------------------------------------------\u001b[0m",
      "\u001b[1;31mModuleNotFoundError\u001b[0m                       Traceback (most recent call last)",
      "\u001b[1;32m<ipython-input-63-06d0b6aee234>\u001b[0m in \u001b[0;36m<module>\u001b[1;34m\u001b[0m\n\u001b[1;32m----> 1\u001b[1;33m \u001b[1;32mimport\u001b[0m \u001b[0mpyyaml\u001b[0m\u001b[1;33m\u001b[0m\u001b[1;33m\u001b[0m\u001b[0m\n\u001b[0m",
      "\u001b[1;31mModuleNotFoundError\u001b[0m: No module named 'pyyaml'"
     ]
    }
   ],
   "source": [
    "import pyyaml"
   ]
  },
  {
   "cell_type": "code",
   "execution_count": null,
   "metadata": {},
   "outputs": [],
   "source": [
    "# given a query byte, look up all addresses containing that byte and output them in a list\n",
    "# option for byte at a time looking, or combining bytes"
   ]
  },
  {
   "cell_type": "code",
   "execution_count": null,
   "metadata": {},
   "outputs": [],
   "source": [
    "# quick function to give out stats on the amount of 00 bytes in the file"
   ]
  },
  {
   "cell_type": "code",
   "execution_count": null,
   "metadata": {},
   "outputs": [],
   "source": [
    "# input start/stop address of headers\n",
    "# parse into list, using 00 byte as separator\n",
    "# translate names to english, output a json file with true/false\n",
    "\n",
    "# when given a headers list, generate codes to null out all the falses, and write to a pnach\n"
   ]
  }
 ],
 "metadata": {
  "kernelspec": {
   "display_name": "Python 3",
   "language": "python",
   "name": "python3"
  },
  "language_info": {
   "codemirror_mode": {
    "name": "ipython",
    "version": 3
   },
   "file_extension": ".py",
   "mimetype": "text/x-python",
   "name": "python",
   "nbconvert_exporter": "python",
   "pygments_lexer": "ipython3",
   "version": "3.7.4"
  }
 },
 "nbformat": 4,
 "nbformat_minor": 2
}
