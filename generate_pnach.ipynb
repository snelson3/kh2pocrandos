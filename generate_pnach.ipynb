{
 "cells": [
  {
   "cell_type": "code",
   "execution_count": 5,
   "metadata": {
    "scrolled": true
   },
   "outputs": [
    {
     "name": "stdout",
     "output_type": "stream",
     "text": [
      "Replacing Roxas (Boss) with Xigbar (Normal) (Boss)\n",
      "Hold R2 During transition to spawn at Roxas (Boss) fight in The World That Never Was\n"
     ]
    }
   ],
   "source": [
    "from kh2lib import CodeGen\n",
    "import os\n",
    "\n",
    "\n",
    "cg = CodeGen(out_fn=os.path.join(\"F266B00B.pnach\"), change_location_code=True)\n",
    "\n",
    "## Uncomment these and start a new game to get a file ready with ease\n",
    "#cg.apply_all_abilities()\n",
    "#cg.apply_all_forms()\n",
    "#cg.apply_all_items()\n",
    "\n",
    "\n",
    "# Run this\n",
    "#f you are bad like me\n",
    "cg.apply_inf_hp()\n",
    "\n",
    "# Uncomment to have roxas able to do RC commands (makes fights more likely to not softlock)\n",
    "#cg.apply_roxas_rc_code()\n",
    "\n",
    "# Replace these numbers with the id of the original boss and the new boss\n",
    "ORIGINAL_BOSS = 9\n",
    "NEW_BOSS      = 60\n",
    "cg.replace_boss(ORIGINAL_BOSS, NEW_BOSS)\n",
    "\n",
    "cg.write_pnach(debug=False)"
   ]
  },
  {
   "cell_type": "code",
   "execution_count": null,
   "metadata": {},
   "outputs": [],
   "source": [
    "# marluxia data number is weird\n",
    "\n",
    "# check cutcene time\n",
    "# 6 ids do the code wrong but it still works prolly just replaces some noops"
   ]
  },
  {
   "cell_type": "code",
   "execution_count": null,
   "metadata": {},
   "outputs": [],
   "source": [
    "cg = CodeGen(out_fn=os.path.join(\"cheats\",\"F266B00B.pnach\"), change_location_code=True)\n",
    "cg.apply_cb_code(\"20194858 000{}\".format(\"FFFFF\"))\n",
    "cg.write_pnach()"
   ]
  },
  {
   "cell_type": "code",
   "execution_count": null,
   "metadata": {},
   "outputs": [],
   "source": [
    "# Timeless river color mod\n",
    "# (changes if the game looks normal, or looks like timeless river. also this \"i believe\" was hacked before me)\n",
    "# 20194858 000xxxxx\n",
    "# 00000 = timeless river\n",
    "# e102b = normal"
   ]
  },
  {
   "cell_type": "code",
   "execution_count": null,
   "metadata": {},
   "outputs": [],
   "source": [
    "import random\n",
    "hex(random.randint(0,4294967295))[2:].upper().zfill(8)"
   ]
  },
  {
   "cell_type": "code",
   "execution_count": null,
   "metadata": {},
   "outputs": [],
   "source": [
    "int(0xFFFFF)"
   ]
  },
  {
   "cell_type": "code",
   "execution_count": null,
   "metadata": {},
   "outputs": [],
   "source": []
  }
 ],
 "metadata": {
  "kernelspec": {
   "display_name": "Python 3",
   "language": "python",
   "name": "python3"
  },
  "language_info": {
   "codemirror_mode": {
    "name": "ipython",
    "version": 3
   },
   "file_extension": ".py",
   "mimetype": "text/x-python",
   "name": "python",
   "nbconvert_exporter": "python",
   "pygments_lexer": "ipython3",
   "version": "3.7.4"
  }
 },
 "nbformat": 4,
 "nbformat_minor": 2
}
